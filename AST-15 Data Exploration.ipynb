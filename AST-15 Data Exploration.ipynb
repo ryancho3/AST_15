{
 "cells": [
  {
   "cell_type": "code",
   "execution_count": 24,
   "metadata": {},
   "outputs": [],
   "source": [
    "import numpy as np\n",
    "import matplotlib.pyplot as plt\n",
    "import matplotlib\n",
    "#make sure that the file spectrum_class.py is in the same folder as this file!\n",
    "import spectrum_class\n",
    "import os\n",
    "from astropy.io import fits\n",
    "from astropy.coordinates import SkyCoord, EarthLocation\n",
    "import astropy.units as u\n",
    "\n",
    "#Pretty matplotlib plotting settings\n",
    "font = {'family' : 'serif',\n",
    "        'size'   : 16,}\n",
    "matplotlib.rc('font', **font)\n"
   ]
  },
  {
   "cell_type": "code",
   "execution_count": 25,
   "metadata": {},
   "outputs": [],
   "source": [
    "#define Gaia's filters\n",
    "gaia_bands = {'R':(6200,9000),\n",
    "              'B':(4500,6500),\n",
    "              'G':(4500,8000)}"
   ]
  },
  {
   "cell_type": "markdown",
   "metadata": {},
   "source": [
    "Below this cell, we will practice reading in a regular spec1d fits file. These spectra have NOT been shifted to rest frame. In most cases, we read in a wavelength ($\\lambda$), a flux ($f$), and a measurement of the flux uncertainty ($\\sigma$). Specifically, the flux uncertainty, is saying \"I am pretty sure that the range $f\\pm \\sigma$ contains the true measurement.\" The value we are actually given is the inverse variance, $ivar$, and this is related to the flux uncertainty with $ivar = \\frac{1}{\\sigma^2}$, so we calculate the uncertainty with $\\sigma = \\frac{1}{\\sqrt{ivar}}.$"
   ]
  },
  {
   "cell_type": "code",
   "execution_count": 71,
   "metadata": {},
   "outputs": [
    {
     "name": "stdout",
     "output_type": "stream",
     "text": [
      "spec1d.07apr2016_GN2a.000.11200.fits.gz\n",
      "spec1d.07apr2016_GN2b.000.11200.fits.gz\n",
      "spec1d.08apr2016_GN2a.000.11200.fits.gz\n",
      "spec1d.08apr2016_GN2b.000.11200.fits.gz\n",
      "spec1d.09apr2016_GN2a.000.11200.fits.gz\n",
      "spec1d.09apr2016_GN2b.000.11200.fits.gz\n",
      "spec1d.03mar2016_GN0a.006.2365.fits.gz\n",
      "spec1d.03mar2016_GN0b.006.2365.fits.gz\n",
      "spec1d.03mar2016_GN0c.006.2365.fits.gz\n",
      "spec1d.03mar2016_GN4b.006.2365.fits.gz\n",
      "spec1d.04mar2016_GN0a.006.2365.fits.gz\n",
      "spec1d.04mar2016_GN0b.006.2365.fits.gz\n",
      "spec1d.04mar2016_GN0c.006.2365.fits.gz\n",
      "spec1d.04mar2016_GN4b.006.2365.fits.gz\n",
      "spec1d.05apr2014_GN3C.006.2365.fits.gz\n",
      "spec1d.05apr2014_GN3D.006.2365.fits.gz\n",
      "spec1d.07apr2014_GN3C.006.2365.fits.gz\n",
      "spec1d.07apr2014_GN3D.006.2365.fits.gz\n",
      "spec1d.07apr2014_GN3e.006.2365.fits.gz\n",
      "spec1d.07apr2016_GN4b.006.2365.fits.gz\n",
      "spec1d.08apr2014_GN3C.006.2365.fits.gz\n",
      "spec1d.08apr2014_GN3D.006.2365.fits.gz\n",
      "spec1d.08apr2014_GN3e.006.2365.fits.gz\n",
      "spec1d.08apr2016_GN4b.006.2365.fits.gz\n",
      "spec1d.09apr2016_GN4b.006.2365.fits.gz\n",
      "spec1d.14apr2015_GN0a.006.2365.fits.gz\n",
      "spec1d.14apr2015_GN0b.006.2365.fits.gz\n",
      "spec1d.19may2015_GN0b.006.2365.fits.gz\n",
      "spec1d.23mar2015_GN3e_t.006.2365.fits.gz\n",
      "spec1d.23mar2015_GN3f_t.006.2365.fits.gz\n",
      "spec1d.24mar2015_GN3f_t.006.2365.fits.gz\n",
      "spec1d.25mar2015_GN3e_t.006.2365.fits.gz\n",
      "spec1d.25mar2015_GN3f_t.006.2365.fits.gz\n",
      "spec1d.29apr2014_GN3D.006.2365.fits.gz\n",
      "spec1d.29apr2014_GN3e.006.2365.fits.gz\n",
      "spec1d.03apr2017_c2b.032.27611.fits.gz\n",
      "spec1d.04apr2017_c2b.032.27611.fits.gz\n",
      "spec1d.04mar2017_c2a.032.27611.fits.gz\n",
      "spec1d.04mar2017_c2c.032.27611.fits.gz\n",
      "spec1d.03apr2017_c1c.005.3188.fits.gz\n",
      "spec1d.04apr2017_c1c.005.3188.fits.gz\n",
      "spec1d.04apr2017_c1d.005.3188.fits.gz\n",
      "spec1d.04mar2017_c1a.005.3188.fits.gz\n",
      "spec1d.03apr2017_c2b.003.3620.fits.gz\n",
      "spec1d.04apr2017_c2b.003.3620.fits.gz\n",
      "spec1d.04mar2017_c2a.003.3620.fits.gz\n",
      "spec1d.04mar2017_c2c.003.3620.fits.gz\n",
      "spec1d.03apr2017_c1c.042.43512.fits.gz\n",
      "spec1d.04apr2017_c1c.042.43512.fits.gz\n",
      "spec1d.04apr2017_c1d.042.43512.fits.gz\n",
      "spec1d.04mar2017_c1a.042.43512.fits.gz\n",
      "spec1d.03apr2017_E7a.032.irac119921.fits.gz\n",
      "spec1d.03apr2017_E7b.032.irac119921.fits.gz\n",
      "spec1d.04apr2017_E7a.032.irac119921.fits.gz\n",
      "spec1d.04apr2017_E7b.032.irac119921.fits.gz\n"
     ]
    }
   ],
   "source": [
    "start_path = '/Volumes/Kevin_NGVS2/HALO7D/SIP_2020/AST-13/raw_data/'\n",
    "\n",
    "for starname in os.listdir(start_path):\n",
    "    if os.path.isdir(f'{start_path}{starname}/'):\n",
    "        for filename in os.listdir(f'{start_path}{starname}/'):\n",
    "            if 'spec1d' not in filename:\n",
    "                continue\n",
    "            print(filename)"
   ]
  },
  {
   "cell_type": "code",
   "execution_count": 73,
   "metadata": {},
   "outputs": [],
   "source": [
    "#you will need to change the path to be for your computer\n",
    "path = '/Volumes/Kevin_NGVS2/HALO7D/SIP_2020/AST-15/data/'\n",
    "filename = 'spec1d.hgc1a.031.G_78270966549760.fits.gz'\n",
    "starname = 'G_78270966549760'\n",
    "\n",
    "data = fits.open(f'{path}{filename}')"
   ]
  },
  {
   "cell_type": "code",
   "execution_count": 27,
   "metadata": {},
   "outputs": [
    {
     "name": "stdout",
     "output_type": "stream",
     "text": [
      "[<astropy.io.fits.hdu.image.PrimaryHDU object at 0x1178efc18>, <astropy.io.fits.hdu.table.BinTableHDU object at 0x1172d6e10>, <astropy.io.fits.hdu.table.BinTableHDU object at 0x117e6fa90>, <astropy.io.fits.hdu.table.BinTableHDU object at 0x1172cb908>, <astropy.io.fits.hdu.table.BinTableHDU object at 0x1176636d8>]\n",
      "5\n"
     ]
    }
   ],
   "source": [
    "print(data)\n",
    "print(len(data))"
   ]
  },
  {
   "cell_type": "code",
   "execution_count": 57,
   "metadata": {},
   "outputs": [
    {
     "data": {
      "text/plain": [
       "SIMPLE  =                    T /Dummy Created by MWRFITS v1.4                   \n",
       "BITPIX  =                    8 /Dummy primary header created by MWRFITS         \n",
       "NAXIS   =                    0 /No data is associated with this header          \n",
       "EXTEND  =                    T /Extensions may (will!) be present               "
      ]
     },
     "execution_count": 57,
     "metadata": {},
     "output_type": "execute_result"
    }
   ],
   "source": [
    "data[0].header"
   ]
  },
  {
   "cell_type": "code",
   "execution_count": 65,
   "metadata": {},
   "outputs": [
    {
     "data": {
      "text/plain": [
       "['SPEC',\n",
       " 'LAMBDA',\n",
       " 'IVAR',\n",
       " 'CRMASK',\n",
       " 'BITMASK',\n",
       " 'ORMASK',\n",
       " 'NBADPIX',\n",
       " 'INFOMASK',\n",
       " 'OBJPOS',\n",
       " 'FWHM',\n",
       " 'NSIGMA',\n",
       " 'R1',\n",
       " 'R2',\n",
       " 'SKYSPEC',\n",
       " 'IVARFUDGE']"
      ]
     },
     "execution_count": 65,
     "metadata": {},
     "output_type": "execute_result"
    }
   ],
   "source": [
    "data[2].data.names"
   ]
  },
  {
   "cell_type": "code",
   "execution_count": 66,
   "metadata": {},
   "outputs": [
    {
     "name": "stderr",
     "output_type": "stream",
     "text": [
      "/Users/kevinm/anaconda3/lib/python3.6/site-packages/ipykernel_launcher.py:14: RuntimeWarning: divide by zero encountered in true_divide\n",
      "  \n"
     ]
    }
   ],
   "source": [
    "blue = data[1].data\n",
    "red = data[2].data\n",
    "\n",
    "wave_blue, wave_red = blue['lambda'][0],red['lambda'][0]\n",
    "flux_blue, flux_red = blue['spec'][0],red['spec'][0]\n",
    "ivar_blue, ivar_red = blue['ivar'][0],red['ivar'][0]\n",
    "sky_blue, sky_red = blue['skyspec'][0],red['skyspec'][0]\n",
    "\n",
    "wave = np.append(wave_blue,wave_red)\n",
    "flux = np.append(flux_blue,flux_red)\n",
    "ivar = np.append(ivar_blue,ivar_red)\n",
    "sky = np.append(sky_blue,sky_red)\n",
    "\n",
    "flux_err = 1/np.sqrt(ivar)"
   ]
  },
  {
   "cell_type": "code",
   "execution_count": 67,
   "metadata": {},
   "outputs": [
    {
     "data": {
      "image/png": "[encoded data removed]",
      "text/plain": [
       "<Figure size 432x288 with 1 Axes>"
      ]
     },
     "metadata": {
      "needs_background": "light"
     },
     "output_type": "display_data"
    }
   ],
   "source": [
    "plt.figure()\n",
    "plt.errorbar(wave,flux,yerr=flux_err,fmt='o',ms=1,alpha=0.1)\n",
    "plt.ylabel('Flux');plt.xlabel('Observed Wavelength ($\\AA$)')\n",
    "\n",
    "for band in ['R','B']:\n",
    "    plt.axvspan(gaia_bands[band][0], gaia_bands[band][1], alpha=0.2, color=band.lower())\n",
    "\n",
    "plt.show()"
   ]
  },
  {
   "cell_type": "code",
   "execution_count": 32,
   "metadata": {},
   "outputs": [
    {
     "name": "stdout",
     "output_type": "stream",
     "text": [
      "Median R Flux:\t 10997.08\n",
      "Average R Flux:\t 6238.83\n"
     ]
    }
   ],
   "source": [
    "r_region = (wave >= gaia_bands['R'][0]) & (wave <= gaia_bands['R'][1])\n",
    "median_r_flux = np.median(flux[r_region])\n",
    "average_r_flux = np.average(flux[r_region],weights=ivar[r_region])\n",
    "print('Median R Flux:\\t %.2f'%median_r_flux)\n",
    "print('Average R Flux:\\t %.2f'%average_r_flux)"
   ]
  },
  {
   "cell_type": "markdown",
   "metadata": {},
   "source": [
    "Below is for reading in spec1d fits files using the spectrum_class.py code (slightly easier)."
   ]
  },
  {
   "cell_type": "code",
   "execution_count": 74,
   "metadata": {},
   "outputs": [
    {
     "name": "stderr",
     "output_type": "stream",
     "text": [
      "/Users/kevinm/anaconda3/lib/python3.6/site-packages/ipykernel_launcher.py:4: RuntimeWarning: divide by zero encountered in true_divide\n",
      "  after removing the cwd from sys.path.\n"
     ]
    }
   ],
   "source": [
    "spec = spectrum_class.Spectrum(f'{path}{filename}')\n",
    "\n",
    "wave,flux,ivar,sky = spec.lam,spec.flux,spec.ivar,spec.sky\n",
    "flux_err = 1/np.sqrt(ivar)"
   ]
  },
  {
   "cell_type": "code",
   "execution_count": 75,
   "metadata": {},
   "outputs": [
    {
     "data": {
      "image/png": "[encoded data removed]",
      "text/plain": [
       "<Figure size 432x288 with 1 Axes>"
      ]
     },
     "metadata": {
      "needs_background": "light"
     },
     "output_type": "display_data"
    }
   ],
   "source": [
    "plt.figure()\n",
    "plt.errorbar(wave,flux,yerr=flux_err,fmt='o',ms=1,alpha=0.1)\n",
    "plt.ylabel('Flux');plt.xlabel('Observed Wavelength ($\\AA$)')\n",
    "\n",
    "for band in ['R','B']:\n",
    "    plt.axvspan(gaia_bands[band][0], gaia_bands[band][1], alpha=0.2, color=band.lower())\n",
    "\n",
    "plt.show()"
   ]
  },
  {
   "cell_type": "code",
   "execution_count": null,
   "metadata": {},
   "outputs": [],
   "source": []
  },
  {
   "cell_type": "code",
   "execution_count": null,
   "metadata": {},
   "outputs": [],
   "source": []
  },
  {
   "cell_type": "code",
   "execution_count": null,
   "metadata": {},
   "outputs": [],
   "source": []
  },
  {
   "cell_type": "code",
   "execution_count": null,
   "metadata": {},
   "outputs": [],
   "source": []
  },
  {
   "cell_type": "markdown",
   "metadata": {},
   "source": [
    "Below is for reading in generic data from a file (e.g. txt, dat, csv). "
   ]
  },
  {
   "cell_type": "code",
   "execution_count": 83,
   "metadata": {},
   "outputs": [
    {
     "data": {
      "text/plain": [
       "array([('G_65084863834752', '10:01:56.932', '+02:30:29.53', 2000., 19.785, 'G', 900, 1, 1, 'INDEF'),\n",
       "       ('G_65806418340608', '10:02:15.611', '+02:30:35.81', 2000., 18.056, 'G', 900, 1, 1, 'INDEF'),\n",
       "       ('G_65741993950848', '10:02:06.596', '+02:29:38.10', 2000., 20.177, 'G', 900, 1, 1, 'INDEF'),\n",
       "       ('G_65016144356864', '10:01:58.554', '+02:29:57.06', 2000., 18.965, 'G', 900, 1, 1, 'INDEF'),\n",
       "       ('G_64844345661312', '10:01:54.757', '+02:28:20.45', 2000., 19.436, 'G', 900, 1, 1, 'INDEF'),\n",
       "       ('G_66841505413120', '10:01:55.590', '+02:31:58.84', 2000., 20.668, 'G', 900, 1, 1, 'INDEF'),\n",
       "       ('G_68147175629184', '10:01:42.788', '+02:30:26.19', 2000., 18.489, 'G', 900, 1, 1, 'INDEF'),\n",
       "       ('G_68284614581632', '10:01:48.302', '+02:31:32.37', 2000., 19.901, 'G', 900, 1, 1, 'INDEF'),\n",
       "       ('G_65222304081792', '10:01:46.340', '+02:30:41.26', 2000., 20.802, 'G', 900, 1, 1, 'INDEF'),\n",
       "       ('G_65703339124992', '10:02:10.719', '+02:30:26.19', 2000., 19.155, 'G', 900, 1, 1, 'INDEF'),\n",
       "       ('G_65604555002240', '10:02:17.417', '+02:29:59.75', 2000., 20.766, 'G', 900, 1, 1, 'INDEF'),\n",
       "       ('G_66699771952128', '10:02:06.795', '+02:31:59.76', 2000., 20.422, 'G', 900, 1, 1, 'INDEF'),\n",
       "       ('G_66596692325376', '10:02:03.207', '+02:31:19.76', 2000., 19.522, 'G', 900, 1, 1, 'INDEF'),\n",
       "       ('G_66631052064768', '10:02:08.082', '+02:31:38.13', 2000., 20.056, 'G', 900, 1, 1, 'INDEF'),\n",
       "       ('G_70067026297728', '10:01:45.873', '+02:34:11.14', 2000., 20.793, 'G', 900, 1, 1, 'INDEF'),\n",
       "       ('G_65291023656960', '10:01:55.320', '+02:31:22.21', 2000., 20.563, 'G', 900, 1, 1, 'INDEF'),\n",
       "       ('G_65222303204096', '10:01:48.126', '+02:30:50.42', 2000., 20.553, 'G', 900, 1, 1, 'INDEF'),\n",
       "       ('G_68245959768832', '10:01:43.309', '+02:31:44.75', 2000., 19.718, 'G', 900, 1, 1, 'INDEF'),\n",
       "       ('G_68452118200704', '10:01:41.234', '+02:32:13.62', 2000., 19.707, 'G', 900, 1, 1, 'INDEF'),\n",
       "       ('G_66871570238592', '10:01:59.782', '+02:32:47.39', 2000., 18.392, 'G', 900, 1, 1, 'INDEF'),\n",
       "       ('G_66596693805440', '10:02:03.203', '+02:31:44.16', 2000., 20.869, 'G', 900, 1, 1, 'INDEF'),\n",
       "       ('G_68349038986112', '10:01:45.334', '+02:32:20.29', 2000., 19.971, 'G', 900, 1, 1, 'INDEF'),\n",
       "       ('G_68280319508480', '10:01:48.046', '+02:32:01.97', 2000., 18.69 , 'G', 900, 1, 1, 'INDEF'),\n",
       "       ('G_66631052293120', '10:02:08.986', '+02:31:40.58', 2000., 20.067, 'G', 900, 1, 1, 'INDEF'),\n",
       "       ('G_68314679246720', '10:01:51.190', '+02:32:00.85', 2000., 19.91 , 'G', 900, 1, 1, 'INDEF'),\n",
       "       ('G_66768491017856', '10:01:56.784', '+02:31:33.81', 2000., 19.647, 'G', 900, 1, 1, 'INDEF'),\n",
       "       ('G_66631052064256', '10:02:07.012', '+02:31:32.80', 2000., 18.806, 'G', 900, 1, 1, 'INDEF'),\n",
       "       ('G_65256662527744', '10:01:52.024', '+02:30:59.18', 2000., 19.132, 'G', 900, 1, 1, 'INDEF'),\n",
       "       ('G_76656058834560', '10:02:27.716', '+02:26:14.95', 2000., 18.506, 'G', 900, 1, 1, 'INDEF'),\n",
       "       ('G_77858649686528', '10:02:21.899', '+02:28:47.07', 2000., 18.711, 'G', 900, 1, 1, 'INDEF'),\n",
       "       ('G_76484260139904', '10:02:37.577', '+02:25:39.31', 2000., 18.044, 'G', 900, 1, 1, 'INDEF'),\n",
       "       ('G_78270966549760', '10:02:26.999', '+02:29:37.14', 2000., 18.536, 'G', 900, 1, 1, 'INDEF'),\n",
       "       ('G_76690418571008', '10:02:34.612', '+02:25:55.54', 2000., 18.844, 'G', 900, 1, 1, 'INDEF'),\n",
       "       ('G_77171455331712', '10:02:36.570', '+02:27:58.24', 2000., 20.577, 'G', 900, 1, 1, 'INDEF'),\n",
       "       ('G_77858649686144', '10:02:22.276', '+02:28:42.72', 2000., 18.648, 'G', 900, 1, 1, 'INDEF'),\n",
       "       ('G_77824289949568', '10:02:27.563', '+02:29:15.12', 2000., 20.401, 'G', 900, 1, 1, 'INDEF'),\n",
       "       ('G_78202247071488', '10:02:28.389', '+02:29:10.80', 2000., 19.592, 'G', 900, 1, 1, 'INDEF'),\n",
       "       ('G_76346821283584', '10:02:31.725', '+02:24:51.98', 2000., 20.715, 'G', 900, 1, 1, 'INDEF'),\n",
       "       ('G_77996088639232', '10:02:32.288', '+02:28:39.51', 2000., 18.231, 'G', 900, 1, 1, 'INDEF'),\n",
       "       ('G_76175022499840', '10:02:15.789', '+02:26:55.16', 2000., 20.246, 'G', 900, 1, 1, 'INDEF'),\n",
       "       ('G_77858649684736', '10:02:21.008', '+02:28:31.20', 2000., 20.542, 'G', 900, 1, 1, 'INDEF'),\n",
       "       ('G_77618131516672', '10:02:30.333', '+02:28:37.96', 2000., 20.239, 'G', 900, 1, 1, 'INDEF'),\n",
       "       ('G_76729073265280', '10:02:37.174', '+02:26:57.95', 2000., 20.145, 'G', 900, 1, 1, 'INDEF'),\n",
       "       ('G_75968864247552', '10:02:19.920', '+02:26:14.99', 2000., 20.308, 'G', 900, 1, 1, 'INDEF'),\n",
       "       ('G_76175022677888', '10:02:17.006', '+02:26:29.72', 2000., 20.156, 'G', 900, 1, 1, 'INDEF'),\n",
       "       ('G_77137095176320', '10:02:43.306', '+02:27:40.18', 2000., 19.464, 'G', 900, 1, 1, 'INDEF'),\n",
       "       ('G_76522914755072', '10:02:38.953', '+02:25:49.63', 2000., 19.589, 'G', 900, 1, 1, 'INDEF'),\n",
       "       ('G_77549412036864', '10:02:31.615', '+02:27:44.99', 2000., 19.228, 'G', 900, 1, 1, 'INDEF'),\n",
       "       ('G_66910225054848', '10:02:03.184', '+02:32:33.54', 2000., 16.019, 'G',  -1, 0, 1, 'INDEF'),\n",
       "       ('G_65772058601984', '10:02:07.085', '+02:30:25.53', 2000., 15.94 , 'G',  -1, 0, 1, 'INDEF'),\n",
       "       ('G_65157878390656', '10:01:48.376', '+02:30:01.10', 2000., 16.626, 'G',  -2, 0, 1, 'INDEF'),\n",
       "       ('G_70140040452864', '10:01:45.200', '+02:34:07.08', 2000., 16.678, 'G',  -2, 0, 1, 'INDEF'),\n",
       "       ('G_68559492488704', '10:01:43.210', '+02:32:51.89', 2000., 15.711, 'G',  -2, 0, 1, 'INDEF'),\n",
       "       ('G_66493613109248', '10:02:02.688', '+02:31:00.12', 2000., 17.14 , 'G',  -1, 0, 1, 'INDEF'),\n",
       "       ('G_78202247072512', '10:02:30.184', '+02:29:21.97', 2000., 17.76 , 'G',  -2, 0, 1, 'INDEF'),\n",
       "       ('G_77515052296960', '10:02:27.475', '+02:27:09.46', 2000., 17.599, 'G',  -2, 0, 1, 'INDEF'),\n",
       "       ('G_75904439465344', '10:02:23.147', '+02:25:22.39', 2000., 15.639, 'G',  -2, 0, 1, 'INDEF')],\n",
       "      dtype=[('id', '<U16'), ('ra', '<U16'), ('dec', '<U16'), ('epoch', '<f8'), ('mag', '<f8'), ('filter', '<U16'), ('priority', '<i8'), ('list', '<i8'), ('select', '<i8'), ('pa', '<U16')])"
      ]
     },
     "execution_count": 83,
     "metadata": {},
     "output_type": "execute_result"
    }
   ],
   "source": [
    "filepath = '/Volumes/Kevin_NGVS2/HALO7D/SIP_2020/AST-15/data/'\n",
    "filename = 'hgc1a.out'\n",
    "\n",
    "#filedata = np.genfromtxt(f'{filepath}{filename}',skip_header=7,dtype=None)\n",
    "#filedata = np.genfromtxt(f'{filepath}{filename}',skip_header=7,dtype=None,\n",
    "#                        names=['id','ra','dec','epoch','mag','filter','priority','list','select','pa'])\n",
    "filedata = np.genfromtxt(f'{filepath}{filename}',skip_header=7,\n",
    "                         dtype=['U16','U16','U16','<f8','<f8','U16',    '<i8',    '<i8', '<i8',   'U16'],\n",
    "                         names=['id','ra','dec','epoch','mag','filter','priority','list','select','pa'])\n",
    "filedata"
   ]
  },
  {
   "cell_type": "code",
   "execution_count": null,
   "metadata": {},
   "outputs": [],
   "source": []
  },
  {
   "cell_type": "code",
   "execution_count": 85,
   "metadata": {},
   "outputs": [
    {
     "data": {
      "text/plain": [
       "array(['10:01:56.932', '10:02:15.611', '10:02:06.596', '10:01:58.554',\n",
       "       '10:01:54.757', '10:01:55.590', '10:01:42.788', '10:01:48.302',\n",
       "       '10:01:46.340', '10:02:10.719', '10:02:17.417', '10:02:06.795',\n",
       "       '10:02:03.207', '10:02:08.082', '10:01:45.873', '10:01:55.320',\n",
       "       '10:01:48.126', '10:01:43.309', '10:01:41.234', '10:01:59.782',\n",
       "       '10:02:03.203', '10:01:45.334', '10:01:48.046', '10:02:08.986',\n",
       "       '10:01:51.190', '10:01:56.784', '10:02:07.012', '10:01:52.024',\n",
       "       '10:02:27.716', '10:02:21.899', '10:02:37.577', '10:02:26.999',\n",
       "       '10:02:34.612', '10:02:36.570', '10:02:22.276', '10:02:27.563',\n",
       "       '10:02:28.389', '10:02:31.725', '10:02:32.288', '10:02:15.789',\n",
       "       '10:02:21.008', '10:02:30.333', '10:02:37.174', '10:02:19.920',\n",
       "       '10:02:17.006', '10:02:43.306', '10:02:38.953', '10:02:31.615',\n",
       "       '10:02:03.184', '10:02:07.085', '10:01:48.376', '10:01:45.200',\n",
       "       '10:01:43.210', '10:02:02.688', '10:02:30.184', '10:02:27.475',\n",
       "       '10:02:23.147'], dtype='<U16')"
      ]
     },
     "execution_count": 85,
     "metadata": {},
     "output_type": "execute_result"
    }
   ],
   "source": [
    "filedata['ra']"
   ]
  },
  {
   "cell_type": "code",
   "execution_count": 86,
   "metadata": {},
   "outputs": [],
   "source": [
    "coords = SkyCoord(filedata['ra'], filedata['dec'], unit=(u.hourangle, u.deg), frame=\"icrs\")"
   ]
  },
  {
   "cell_type": "code",
   "execution_count": 39,
   "metadata": {},
   "outputs": [
    {
     "data": {
      "text/latex": [
       "[$150^\\circ29{}^\\prime13.98{}^{\\prime\\prime}$\n",
       " $150^\\circ33{}^\\prime54.165{}^{\\prime\\prime}$\n",
       " $150^\\circ31{}^\\prime38.94{}^{\\prime\\prime}$\n",
       " $150^\\circ29{}^\\prime38.31{}^{\\prime\\prime}$\n",
       " $150^\\circ28{}^\\prime41.355{}^{\\prime\\prime}$\n",
       " $150^\\circ28{}^\\prime53.85{}^{\\prime\\prime}$\n",
       " $150^\\circ25{}^\\prime41.82{}^{\\prime\\prime}$\n",
       " $150^\\circ27{}^\\prime04.53{}^{\\prime\\prime}$\n",
       " $150^\\circ26{}^\\prime35.1{}^{\\prime\\prime}$\n",
       " $150^\\circ32{}^\\prime40.785{}^{\\prime\\prime}$\n",
       " $150^\\circ34{}^\\prime21.255{}^{\\prime\\prime}$\n",
       " $150^\\circ31{}^\\prime41.925{}^{\\prime\\prime}$\n",
       " $150^\\circ30{}^\\prime48.105{}^{\\prime\\prime}$\n",
       " $150^\\circ32{}^\\prime01.23{}^{\\prime\\prime}$\n",
       " $150^\\circ26{}^\\prime28.095{}^{\\prime\\prime}$\n",
       " $150^\\circ28{}^\\prime49.8{}^{\\prime\\prime}$\n",
       " $150^\\circ27{}^\\prime01.89{}^{\\prime\\prime}$\n",
       " $150^\\circ25{}^\\prime49.635{}^{\\prime\\prime}$\n",
       " $150^\\circ25{}^\\prime18.51{}^{\\prime\\prime}$\n",
       " $150^\\circ29{}^\\prime56.73{}^{\\prime\\prime}$\n",
       " $150^\\circ30{}^\\prime48.045{}^{\\prime\\prime}$\n",
       " $150^\\circ26{}^\\prime20.01{}^{\\prime\\prime}$\n",
       " $150^\\circ27{}^\\prime00.69{}^{\\prime\\prime}$\n",
       " $150^\\circ32{}^\\prime14.79{}^{\\prime\\prime}$\n",
       " $150^\\circ27{}^\\prime47.85{}^{\\prime\\prime}$\n",
       " $150^\\circ29{}^\\prime11.76{}^{\\prime\\prime}$\n",
       " $150^\\circ31{}^\\prime45.18{}^{\\prime\\prime}$\n",
       " $150^\\circ28{}^\\prime00.36{}^{\\prime\\prime}$\n",
       " $150^\\circ36{}^\\prime55.74{}^{\\prime\\prime}$\n",
       " $150^\\circ35{}^\\prime28.485{}^{\\prime\\prime}$\n",
       " $150^\\circ39{}^\\prime23.655{}^{\\prime\\prime}$\n",
       " $150^\\circ36{}^\\prime44.985{}^{\\prime\\prime}$\n",
       " $150^\\circ38{}^\\prime39.18{}^{\\prime\\prime}$\n",
       " $150^\\circ39{}^\\prime08.55{}^{\\prime\\prime}$\n",
       " $150^\\circ35{}^\\prime34.14{}^{\\prime\\prime}$\n",
       " $150^\\circ36{}^\\prime53.445{}^{\\prime\\prime}$\n",
       " $150^\\circ37{}^\\prime05.835{}^{\\prime\\prime}$\n",
       " $150^\\circ37{}^\\prime55.875{}^{\\prime\\prime}$\n",
       " $150^\\circ38{}^\\prime04.32{}^{\\prime\\prime}$\n",
       " $150^\\circ33{}^\\prime56.835{}^{\\prime\\prime}$\n",
       " $150^\\circ35{}^\\prime15.12{}^{\\prime\\prime}$\n",
       " $150^\\circ37{}^\\prime34.995{}^{\\prime\\prime}$\n",
       " $150^\\circ39{}^\\prime17.61{}^{\\prime\\prime}$\n",
       " $150^\\circ34{}^\\prime58.8{}^{\\prime\\prime}$\n",
       " $150^\\circ34{}^\\prime15.09{}^{\\prime\\prime}$\n",
       " $150^\\circ40{}^\\prime49.59{}^{\\prime\\prime}$\n",
       " $150^\\circ39{}^\\prime44.295{}^{\\prime\\prime}$\n",
       " $150^\\circ37{}^\\prime54.225{}^{\\prime\\prime}$\n",
       " $150^\\circ30{}^\\prime47.76{}^{\\prime\\prime}$\n",
       " $150^\\circ31{}^\\prime46.275{}^{\\prime\\prime}$\n",
       " $150^\\circ27{}^\\prime05.64{}^{\\prime\\prime}$\n",
       " $150^\\circ26{}^\\prime18{}^{\\prime\\prime}$\n",
       " $150^\\circ25{}^\\prime48.15{}^{\\prime\\prime}$\n",
       " $150^\\circ30{}^\\prime40.32{}^{\\prime\\prime}$\n",
       " $150^\\circ37{}^\\prime32.76{}^{\\prime\\prime}$\n",
       " $150^\\circ36{}^\\prime52.125{}^{\\prime\\prime}$\n",
       " $150^\\circ35{}^\\prime47.205{}^{\\prime\\prime}$]"
      ],
      "text/plain": [
       "<Longitude [150.48721667, 150.56504583, 150.52748333, 150.493975  ,\n",
       "            150.47815417, 150.481625  , 150.42828333, 150.45125833,\n",
       "            150.44308333, 150.5446625 , 150.57257083, 150.5283125 ,\n",
       "            150.5133625 , 150.533675  , 150.4411375 , 150.4805    ,\n",
       "            150.450525  , 150.43045417, 150.42180833, 150.49909167,\n",
       "            150.51334583, 150.43889167, 150.45019167, 150.53744167,\n",
       "            150.46329167, 150.4866    , 150.52921667, 150.46676667,\n",
       "            150.61548333, 150.59124583, 150.65657083, 150.61249583,\n",
       "            150.64421667, 150.652375  , 150.59281667, 150.61484583,\n",
       "            150.6182875 , 150.6321875 , 150.63453333, 150.5657875 ,\n",
       "            150.58753333, 150.6263875 , 150.65489167, 150.583     ,\n",
       "            150.57085833, 150.68044167, 150.66230417, 150.63172917,\n",
       "            150.51326667, 150.52952083, 150.45156667, 150.43833333,\n",
       "            150.43004167, 150.5112    , 150.62576667, 150.61447917,\n",
       "            150.59644583] deg>"
      ]
     },
     "execution_count": 39,
     "metadata": {},
     "output_type": "execute_result"
    }
   ],
   "source": [
    "coords.ra"
   ]
  },
  {
   "cell_type": "code",
   "execution_count": 87,
   "metadata": {},
   "outputs": [
    {
     "name": "stdout",
     "output_type": "stream",
     "text": [
      "[150.48721667 150.56504583 150.52748333 150.493975   150.47815417\n",
      " 150.481625   150.42828333 150.45125833 150.44308333 150.5446625\n",
      " 150.57257083 150.5283125  150.5133625  150.533675   150.4411375\n",
      " 150.4805     150.450525   150.43045417 150.42180833 150.49909167\n",
      " 150.51334583 150.43889167 150.45019167 150.53744167 150.46329167\n",
      " 150.4866     150.52921667 150.46676667 150.61548333 150.59124583\n",
      " 150.65657083 150.61249583 150.64421667 150.652375   150.59281667\n",
      " 150.61484583 150.6182875  150.6321875  150.63453333 150.5657875\n",
      " 150.58753333 150.6263875  150.65489167 150.583      150.57085833\n",
      " 150.68044167 150.66230417 150.63172917 150.51326667 150.52952083\n",
      " 150.45156667 150.43833333 150.43004167 150.5112     150.62576667\n",
      " 150.61447917 150.59644583]\n",
      "[2.50820278 2.50994722 2.49391667 2.49918333 2.47234722 2.53301111\n",
      " 2.507275   2.52565833 2.51146111 2.507275   2.49993056 2.53326667\n",
      " 2.52215556 2.52725833 2.56976111 2.52283611 2.51400556 2.52909722\n",
      " 2.53711667 2.54649722 2.52893333 2.53896944 2.53388056 2.52793889\n",
      " 2.53356944 2.52605833 2.52577778 2.51643889 2.43748611 2.47974167\n",
      " 2.42758611 2.49365    2.43209444 2.46617778 2.47853333 2.48753333\n",
      " 2.48633333 2.41443889 2.47764167 2.44865556 2.47533333 2.47721111\n",
      " 2.44943056 2.43749722 2.44158889 2.46116111 2.43045278 2.46249722\n",
      " 2.54265    2.50709167 2.50030556 2.56863333 2.54774722 2.5167\n",
      " 2.48943611 2.45262778 2.42288611]\n"
     ]
    }
   ],
   "source": [
    "ra,dec = coords.ra.value,coords.dec.value\n",
    "print(ra)\n",
    "print(dec)"
   ]
  },
  {
   "cell_type": "code",
   "execution_count": 90,
   "metadata": {},
   "outputs": [
    {
     "data": {
      "text/plain": [
       "array([('G_78270966549760', '10:02:26.999', '+02:29:37.14', 2000., 18.536, 'G', 900, 1, 1, 'INDEF')],\n",
       "      dtype=[('id', '<U16'), ('ra', '<U16'), ('dec', '<U16'), ('epoch', '<f8'), ('mag', '<f8'), ('filter', '<U16'), ('priority', '<i8'), ('list', '<i8'), ('select', '<i8'), ('pa', '<U16')])"
      ]
     },
     "execution_count": 90,
     "metadata": {},
     "output_type": "execute_result"
    }
   ],
   "source": [
    "filedata[filedata['id'] == starname]"
   ]
  },
  {
   "cell_type": "code",
   "execution_count": null,
   "metadata": {},
   "outputs": [],
   "source": []
  },
  {
   "cell_type": "code",
   "execution_count": 91,
   "metadata": {},
   "outputs": [],
   "source": [
    "phot_path = '/Volumes/Kevin_NGVS2/HALO7D/SIP_2020/AST-15/data/'\n",
    "phot_file = 'HALO7D_Gaia_possible_targets_photometry.dat'\n",
    "\n",
    "phot_data = np.genfromtxt(f'{phot_path}{phot_file}',skip_header=1,\n",
    "                          dtype=['U16','U16','U16','<f8','<f8','<f8'],\n",
    "                          names=['id', 'ra', 'dec','G',  'B',  'R'])"
   ]
  },
  {
   "cell_type": "code",
   "execution_count": 92,
   "metadata": {},
   "outputs": [
    {
     "data": {
      "text/plain": [
       "array([('G_78270966549760', '10:02:26.999', '+02:29:37.14', 18.53636, 20.03314, 17.25082)],\n",
       "      dtype=[('id', '<U16'), ('ra', '<U16'), ('dec', '<U16'), ('G', '<f8'), ('B', '<f8'), ('R', '<f8')])"
      ]
     },
     "execution_count": 92,
     "metadata": {},
     "output_type": "execute_result"
    }
   ],
   "source": [
    "phot_data[phot_data['id'] == starname]"
   ]
  },
  {
   "cell_type": "code",
   "execution_count": null,
   "metadata": {},
   "outputs": [],
   "source": []
  }
 ],
 "metadata": {
  "kernelspec": {
   "display_name": "Python 3",
   "language": "python",
   "name": "python3"
  },
  "language_info": {
   "codemirror_mode": {
    "name": "ipython",
    "version": 3
   },
   "file_extension": ".py",
   "mimetype": "text/x-python",
   "name": "python",
   "nbconvert_exporter": "python",
   "pygments_lexer": "ipython3",
   "version": "3.6.5"
  }
 },
 "nbformat": 4,
 "nbformat_minor": 2
}
