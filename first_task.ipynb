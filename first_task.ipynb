{
 "cells": [
  {
   "cell_type": "code",
   "execution_count": 1,
   "metadata": {},
   "outputs": [],
   "source": [
    "import numpy as np\n",
    "from astropy.io import fits\n",
    "import os\n",
    "import matplotlib.pyplot as plt\n",
    "%matplotlib inline"
   ]
  },
  {
   "cell_type": "code",
   "execution_count": 2,
   "metadata": {},
   "outputs": [
    {
     "ename": "OSError",
     "evalue": "HALO7D_Gaia_possible_targets_photometry.dat not found.",
     "output_type": "error",
     "traceback": [
      "\u001b[1;31m---------------------------------------------------------------------------\u001b[0m",
      "\u001b[1;31mOSError\u001b[0m                                   Traceback (most recent call last)",
      "\u001b[1;32m<ipython-input-2-752a45765660>\u001b[0m in \u001b[0;36m<module>\u001b[1;34m\u001b[0m\n\u001b[1;32m----> 1\u001b[1;33m \u001b[0mpossible_targets\u001b[0m \u001b[1;33m=\u001b[0m \u001b[0mnp\u001b[0m\u001b[1;33m.\u001b[0m\u001b[0mgenfromtxt\u001b[0m\u001b[1;33m(\u001b[0m\u001b[1;34m'HALO7D_Gaia_possible_targets_photometry.dat'\u001b[0m\u001b[1;33m,\u001b[0m \u001b[0mdtype\u001b[0m\u001b[1;33m=\u001b[0m\u001b[1;32mNone\u001b[0m\u001b[1;33m,\u001b[0m \u001b[0mencoding\u001b[0m\u001b[1;33m=\u001b[0m\u001b[1;32mNone\u001b[0m\u001b[1;33m,\u001b[0m \u001b[0mskip_header\u001b[0m\u001b[1;33m=\u001b[0m\u001b[1;36m1\u001b[0m\u001b[1;33m)\u001b[0m\u001b[1;33m\u001b[0m\u001b[1;33m\u001b[0m\u001b[0m\n\u001b[0m\u001b[0;32m      2\u001b[0m \u001b[1;33m\u001b[0m\u001b[0m\n\u001b[0;32m      3\u001b[0m \u001b[1;32mdef\u001b[0m \u001b[0mcolumn\u001b[0m\u001b[1;33m(\u001b[0m\u001b[0mmatrix\u001b[0m\u001b[1;33m,\u001b[0m \u001b[0mi\u001b[0m\u001b[1;33m)\u001b[0m\u001b[1;33m:\u001b[0m\u001b[1;33m\u001b[0m\u001b[1;33m\u001b[0m\u001b[0m\n\u001b[0;32m      4\u001b[0m     \u001b[1;32mreturn\u001b[0m \u001b[1;33m[\u001b[0m\u001b[0mrow\u001b[0m\u001b[1;33m[\u001b[0m\u001b[0mi\u001b[0m\u001b[1;33m]\u001b[0m \u001b[1;32mfor\u001b[0m \u001b[0mrow\u001b[0m \u001b[1;32min\u001b[0m \u001b[0mmatrix\u001b[0m\u001b[1;33m]\u001b[0m\u001b[1;33m\u001b[0m\u001b[1;33m\u001b[0m\u001b[0m\n\u001b[0;32m      5\u001b[0m \u001b[1;33m\u001b[0m\u001b[0m\n",
      "\u001b[1;32mC:\\ProgramData\\Anaconda3\\lib\\site-packages\\numpy\\lib\\npyio.py\u001b[0m in \u001b[0;36mgenfromtxt\u001b[1;34m(fname, dtype, comments, delimiter, skip_header, skip_footer, converters, missing_values, filling_values, usecols, names, excludelist, deletechars, replace_space, autostrip, case_sensitive, defaultfmt, unpack, usemask, loose, invalid_raise, max_rows, encoding)\u001b[0m\n\u001b[0;32m   1770\u001b[0m             \u001b[0mfname\u001b[0m \u001b[1;33m=\u001b[0m \u001b[0mos_fspath\u001b[0m\u001b[1;33m(\u001b[0m\u001b[0mfname\u001b[0m\u001b[1;33m)\u001b[0m\u001b[1;33m\u001b[0m\u001b[1;33m\u001b[0m\u001b[0m\n\u001b[0;32m   1771\u001b[0m         \u001b[1;32mif\u001b[0m \u001b[0misinstance\u001b[0m\u001b[1;33m(\u001b[0m\u001b[0mfname\u001b[0m\u001b[1;33m,\u001b[0m \u001b[0mbasestring\u001b[0m\u001b[1;33m)\u001b[0m\u001b[1;33m:\u001b[0m\u001b[1;33m\u001b[0m\u001b[1;33m\u001b[0m\u001b[0m\n\u001b[1;32m-> 1772\u001b[1;33m             \u001b[0mfid\u001b[0m \u001b[1;33m=\u001b[0m \u001b[0mnp\u001b[0m\u001b[1;33m.\u001b[0m\u001b[0mlib\u001b[0m\u001b[1;33m.\u001b[0m\u001b[0m_datasource\u001b[0m\u001b[1;33m.\u001b[0m\u001b[0mopen\u001b[0m\u001b[1;33m(\u001b[0m\u001b[0mfname\u001b[0m\u001b[1;33m,\u001b[0m \u001b[1;34m'rt'\u001b[0m\u001b[1;33m,\u001b[0m \u001b[0mencoding\u001b[0m\u001b[1;33m=\u001b[0m\u001b[0mencoding\u001b[0m\u001b[1;33m)\u001b[0m\u001b[1;33m\u001b[0m\u001b[1;33m\u001b[0m\u001b[0m\n\u001b[0m\u001b[0;32m   1773\u001b[0m             \u001b[0mfid_ctx\u001b[0m \u001b[1;33m=\u001b[0m \u001b[0mcontextlib\u001b[0m\u001b[1;33m.\u001b[0m\u001b[0mclosing\u001b[0m\u001b[1;33m(\u001b[0m\u001b[0mfid\u001b[0m\u001b[1;33m)\u001b[0m\u001b[1;33m\u001b[0m\u001b[1;33m\u001b[0m\u001b[0m\n\u001b[0;32m   1774\u001b[0m         \u001b[1;32melse\u001b[0m\u001b[1;33m:\u001b[0m\u001b[1;33m\u001b[0m\u001b[1;33m\u001b[0m\u001b[0m\n",
      "\u001b[1;32mC:\\ProgramData\\Anaconda3\\lib\\site-packages\\numpy\\lib\\_datasource.py\u001b[0m in \u001b[0;36mopen\u001b[1;34m(path, mode, destpath, encoding, newline)\u001b[0m\n\u001b[0;32m    267\u001b[0m \u001b[1;33m\u001b[0m\u001b[0m\n\u001b[0;32m    268\u001b[0m     \u001b[0mds\u001b[0m \u001b[1;33m=\u001b[0m \u001b[0mDataSource\u001b[0m\u001b[1;33m(\u001b[0m\u001b[0mdestpath\u001b[0m\u001b[1;33m)\u001b[0m\u001b[1;33m\u001b[0m\u001b[1;33m\u001b[0m\u001b[0m\n\u001b[1;32m--> 269\u001b[1;33m     \u001b[1;32mreturn\u001b[0m \u001b[0mds\u001b[0m\u001b[1;33m.\u001b[0m\u001b[0mopen\u001b[0m\u001b[1;33m(\u001b[0m\u001b[0mpath\u001b[0m\u001b[1;33m,\u001b[0m \u001b[0mmode\u001b[0m\u001b[1;33m,\u001b[0m \u001b[0mencoding\u001b[0m\u001b[1;33m=\u001b[0m\u001b[0mencoding\u001b[0m\u001b[1;33m,\u001b[0m \u001b[0mnewline\u001b[0m\u001b[1;33m=\u001b[0m\u001b[0mnewline\u001b[0m\u001b[1;33m)\u001b[0m\u001b[1;33m\u001b[0m\u001b[1;33m\u001b[0m\u001b[0m\n\u001b[0m\u001b[0;32m    270\u001b[0m \u001b[1;33m\u001b[0m\u001b[0m\n\u001b[0;32m    271\u001b[0m \u001b[1;33m\u001b[0m\u001b[0m\n",
      "\u001b[1;32mC:\\ProgramData\\Anaconda3\\lib\\site-packages\\numpy\\lib\\_datasource.py\u001b[0m in \u001b[0;36mopen\u001b[1;34m(self, path, mode, encoding, newline)\u001b[0m\n\u001b[0;32m    621\u001b[0m                                       encoding=encoding, newline=newline)\n\u001b[0;32m    622\u001b[0m         \u001b[1;32melse\u001b[0m\u001b[1;33m:\u001b[0m\u001b[1;33m\u001b[0m\u001b[1;33m\u001b[0m\u001b[0m\n\u001b[1;32m--> 623\u001b[1;33m             \u001b[1;32mraise\u001b[0m \u001b[0mIOError\u001b[0m\u001b[1;33m(\u001b[0m\u001b[1;34m\"%s not found.\"\u001b[0m \u001b[1;33m%\u001b[0m \u001b[0mpath\u001b[0m\u001b[1;33m)\u001b[0m\u001b[1;33m\u001b[0m\u001b[1;33m\u001b[0m\u001b[0m\n\u001b[0m\u001b[0;32m    624\u001b[0m \u001b[1;33m\u001b[0m\u001b[0m\n\u001b[0;32m    625\u001b[0m \u001b[1;33m\u001b[0m\u001b[0m\n",
      "\u001b[1;31mOSError\u001b[0m: HALO7D_Gaia_possible_targets_photometry.dat not found."
     ]
    }
   ],
   "source": [
    "possible_targets = np.genfromtxt('HALO7D_Gaia_possible_targets_photometry.dat', dtype=None, encoding=None, skip_header=1)\n",
    "\n",
    "def column(matrix, i):\n",
    "    return [row[i] for row in matrix]\n",
    "\n",
    "name = column(possible_targets, 0)\n",
    "ra = column(possible_targets, 1)\n",
    "dec = column(possible_targets, 2)\n",
    "gaia_g = column(possible_targets, 3)\n",
    "gaia_b = column(possible_targets, 4)\n",
    "gaia_r = column(possible_targets, 5)"
   ]
  },
  {
   "cell_type": "code",
   "execution_count": null,
   "metadata": {},
   "outputs": [],
   "source": [
    "# this is a test\n",
    "with fits.open('spec1d_science_stars/spec1d.hgc1a.000.G_65084863834752.fits.gz') as fits_data:\n",
    "    blue_data = fits_data[1].data\n",
    "    red_data = fits_data[2].data\n",
    "    data_specs = blue_data.field('SPEC').tolist() + red_data.field('SPEC').tolist()\n",
    "    data_spec = [item for sublist in data_specs for item in sublist]\n",
    "    data_lambdas = blue_data.field('LAMBDA').tolist() + red_data.field('LAMBDA').tolist()\n",
    "    data_lambda = [item for sublist in data_lambdas for item in sublist]\n",
    "    \n",
    "    median_computation_spec = []\n",
    "    median_computation_lambda = []\n",
    "    for i, j in enumerate(data_spec):\n",
    "        if data_lambda[i] >= 6200 and data_lambda[i] <= 9000:\n",
    "            median_computation_spec.append(data_spec[i])\n",
    "            median_computation_lambda.append(data_lambda[i])\n",
    "        else:\n",
    "            continue\n",
    "    \n",
    "print(np.median(median_computation_spec))    "
   ]
  },
  {
   "cell_type": "code",
   "execution_count": null,
   "metadata": {},
   "outputs": [],
   "source": [
    "# just a test\n",
    "list_name = []\n",
    "for filename in os.listdir('spec1d_science_stars'):\n",
    "    if filename.endswith(\".gz\"): \n",
    "        list_name.append(filename[17:33])\n",
    "        continue\n",
    "    else:\n",
    "        continue"
   ]
  },
  {
   "cell_type": "code",
   "execution_count": null,
   "metadata": {},
   "outputs": [],
   "source": [
    "# Apparent Magnitude R vs. median continuum flux level (6200-9000 Angstrom)\n",
    "science_stars_red = []\n",
    "\n",
    "for filename in os.listdir('spec1d_science_stars'):\n",
    "    index = name.index(filename[17:33])\n",
    "    filepath = 'spec1d_science_stars/' + filename\n",
    "    with fits.open(filepath) as fits_data:\n",
    "        blue_data = fits_data[1].data\n",
    "        red_data = fits_data[2].data\n",
    "        data_specs = blue_data.field('SPEC').tolist() + red_data.field('SPEC').tolist()\n",
    "        data_lambdas = blue_data.field('LAMBDA').tolist() + red_data.field('LAMBDA').tolist()\n",
    "        data_spec = [item for sublist in data_specs for item in sublist]\n",
    "        data_lambda = [item for sublist in data_lambdas for item in sublist]\n",
    "    \n",
    "        median_computation_spec = []\n",
    "        median_computation_lambda = []\n",
    "        for i, j in enumerate(data_spec):\n",
    "            if data_lambda[i] >= 6200 and data_lambda[i] <= 9000:\n",
    "                median_computation_spec.append(data_spec[i])\n",
    "                median_computation_lambda.append(data_lambda[i])\n",
    "            else:\n",
    "                continue\n",
    "    median = np.median(median_computation_spec)\n",
    "    science_stars_red.append([index, filename[17:33], -2.5*np.log10(median), gaia_r[index]])"
   ]
  },
  {
   "cell_type": "code",
   "execution_count": null,
   "metadata": {},
   "outputs": [],
   "source": [
    "# Apparent Magnitude G vs. median continuum flux level (4500-8000 Angstrom)\n",
    "science_stars_green = []\n",
    "\n",
    "for filename in os.listdir('spec1d_science_stars'):\n",
    "    index = name.index(filename[17:33])\n",
    "    filepath = 'spec1d_science_stars/' + filename\n",
    "    with fits.open(filepath) as fits_data:\n",
    "        blue_data = fits_data[1].data\n",
    "        red_data = fits_data[2].data\n",
    "        data_specs = blue_data.field('SPEC').tolist() + red_data.field('SPEC').tolist()\n",
    "        data_lambdas = blue_data.field('LAMBDA').tolist() + red_data.field('LAMBDA').tolist()\n",
    "        data_spec = [item for sublist in data_specs for item in sublist]\n",
    "        data_lambda = [item for sublist in data_lambdas for item in sublist]\n",
    "    \n",
    "        median_computation_spec = []\n",
    "        median_computation_lambda = []\n",
    "        for i, j in enumerate(data_spec):\n",
    "            if data_lambda[i] >= 4500 and data_lambda[i] <= 8000:\n",
    "                median_computation_spec.append(data_spec[i])\n",
    "                median_computation_lambda.append(data_lambda[i])\n",
    "            else:\n",
    "                continue\n",
    "    median = np.median(median_computation_spec)\n",
    "    science_stars_green.append([index, filename[17:33], -2.5*np.log10(median), gaia_g[index]])"
   ]
  },
  {
   "cell_type": "code",
   "execution_count": null,
   "metadata": {},
   "outputs": [],
   "source": [
    "# Apparent Magnitude B vs. median continuum flux level (4500-6500 Angstrom)\n",
    "science_stars_blue = []\n",
    "\n",
    "for filename in os.listdir('spec1d_science_stars'):\n",
    "    index = name.index(filename[17:33])\n",
    "    filepath = 'spec1d_science_stars/' + filename\n",
    "    with fits.open(filepath) as fits_data:\n",
    "        blue_data = fits_data[1].data\n",
    "        red_data = fits_data[2].data\n",
    "        data_specs = blue_data.field('SPEC').tolist() + red_data.field('SPEC').tolist()\n",
    "        data_lambdas = blue_data.field('LAMBDA').tolist() + red_data.field('LAMBDA').tolist()\n",
    "        data_spec = [item for sublist in data_specs for item in sublist]\n",
    "        data_lambda = [item for sublist in data_lambdas for item in sublist]\n",
    "    \n",
    "        median_computation_spec = []\n",
    "        median_computation_lambda = []\n",
    "        for i, j in enumerate(data_spec):\n",
    "            if data_lambda[i] >= 4500 and data_lambda[i] <= 6500:\n",
    "                median_computation_spec.append(data_spec[i])\n",
    "                median_computation_lambda.append(data_lambda[i])\n",
    "            else:\n",
    "                continue\n",
    "    median = np.median(median_computation_spec)\n",
    "    science_stars_blue.append([index, filename[17:33], -2.5*np.log10(median), gaia_b[index]])"
   ]
  },
  {
   "cell_type": "code",
   "execution_count": null,
   "metadata": {},
   "outputs": [],
   "source": [
    "def InitializePlot():\n",
    "    plt.clf()\n",
    "    f= plt.figure(figsize=(8,8))\n",
    "    plt.xlim()\n",
    "    plt.ylim()\n",
    "    plt.xlabel('')\n",
    "    plt.ylabel('')"
   ]
  },
  {
   "cell_type": "code",
   "execution_count": null,
   "metadata": {},
   "outputs": [],
   "source": [
    "x_red = [item[3] for item in science_stars_red]\n",
    "y_red = [item[2] + 27 for item in science_stars_red]\n",
    "\n",
    "f = InitializePlot()\n",
    "plt.scatter(x_red, y_red, c = 'red', s = 1, edgecolors = 'red')\n",
    "plt.gca().set_aspect('equal')"
   ]
  },
  {
   "cell_type": "code",
   "execution_count": 3,
   "metadata": {},
   "outputs": [
    {
     "ename": "NameError",
     "evalue": "name 'science_stars_green' is not defined",
     "output_type": "error",
     "traceback": [
      "\u001b[1;31m---------------------------------------------------------------------------\u001b[0m",
      "\u001b[1;31mNameError\u001b[0m                                 Traceback (most recent call last)",
      "\u001b[1;32m<ipython-input-3-64077a7019ac>\u001b[0m in \u001b[0;36m<module>\u001b[1;34m\u001b[0m\n\u001b[1;32m----> 1\u001b[1;33m \u001b[0mx_green\u001b[0m \u001b[1;33m=\u001b[0m \u001b[1;33m[\u001b[0m\u001b[0mitem\u001b[0m\u001b[1;33m[\u001b[0m\u001b[1;36m3\u001b[0m\u001b[1;33m]\u001b[0m \u001b[1;32mfor\u001b[0m \u001b[0mitem\u001b[0m \u001b[1;32min\u001b[0m \u001b[0mscience_stars_green\u001b[0m\u001b[1;33m]\u001b[0m\u001b[1;33m\u001b[0m\u001b[1;33m\u001b[0m\u001b[0m\n\u001b[0m\u001b[0;32m      2\u001b[0m \u001b[0my_green\u001b[0m \u001b[1;33m=\u001b[0m \u001b[1;33m[\u001b[0m\u001b[0mitem\u001b[0m\u001b[1;33m[\u001b[0m\u001b[1;36m2\u001b[0m\u001b[1;33m]\u001b[0m \u001b[1;33m+\u001b[0m \u001b[1;36m27\u001b[0m \u001b[1;32mfor\u001b[0m \u001b[0mitem\u001b[0m \u001b[1;32min\u001b[0m \u001b[0mscience_stars_green\u001b[0m\u001b[1;33m]\u001b[0m\u001b[1;33m\u001b[0m\u001b[1;33m\u001b[0m\u001b[0m\n\u001b[0;32m      3\u001b[0m \u001b[1;33m\u001b[0m\u001b[0m\n\u001b[0;32m      4\u001b[0m \u001b[0mf\u001b[0m \u001b[1;33m=\u001b[0m \u001b[0mInitializePlot\u001b[0m\u001b[1;33m(\u001b[0m\u001b[1;33m)\u001b[0m\u001b[1;33m\u001b[0m\u001b[1;33m\u001b[0m\u001b[0m\n\u001b[0;32m      5\u001b[0m \u001b[0mplt\u001b[0m\u001b[1;33m.\u001b[0m\u001b[0mscatter\u001b[0m\u001b[1;33m(\u001b[0m\u001b[0mx_green\u001b[0m\u001b[1;33m,\u001b[0m \u001b[0my_green\u001b[0m\u001b[1;33m,\u001b[0m \u001b[0mc\u001b[0m \u001b[1;33m=\u001b[0m \u001b[1;34m'green'\u001b[0m\u001b[1;33m,\u001b[0m \u001b[0ms\u001b[0m \u001b[1;33m=\u001b[0m \u001b[1;36m1\u001b[0m\u001b[1;33m,\u001b[0m \u001b[0medgecolors\u001b[0m \u001b[1;33m=\u001b[0m \u001b[1;34m'green'\u001b[0m\u001b[1;33m)\u001b[0m\u001b[1;33m\u001b[0m\u001b[1;33m\u001b[0m\u001b[0m\n",
      "\u001b[1;31mNameError\u001b[0m: name 'science_stars_green' is not defined"
     ]
    }
   ],
   "source": [
    "x_green = [item[3] for item in science_stars_green]\n",
    "y_green = [item[2] + 27 for item in science_stars_green]\n",
    "\n",
    "f = InitializePlot()\n",
    "plt.scatter(x_green, y_green, c = 'green', s = 1, edgecolors = 'green')\n",
    "plt.gca().set_aspect('equal')"
   ]
  },
  {
   "cell_type": "code",
   "execution_count": 28,
   "metadata": {},
   "outputs": [
    {
     "data": {
      "text/plain": [
       "<Figure size 432x288 with 0 Axes>"
      ]
     },
     "metadata": {},
     "output_type": "display_data"
    },
    {
     "data": {
      "image/png": "[encoded data removed]",
      "text/plain": [
       "<Figure size 576x576 with 1 Axes>"
      ]
     },
     "metadata": {
      "needs_background": "light"
     },
     "output_type": "display_data"
    }
   ],
   "source": [
    "x_blue = [item[3] for item in science_stars_blue]\n",
    "y_blue = [item[2] + 27 for item in science_stars_blue]\n",
    "\n",
    "f = InitializePlot()\n",
    "plt.scatter(x_blue, y_blue, c = 'blue', s = 1, edgecolors = 'blue')\n",
    "plt.gca().set_aspect('equal')"
   ]
  },
  {
   "cell_type": "code",
   "execution_count": 27,
   "metadata": {},
   "outputs": [
    {
     "name": "stdout",
     "output_type": "stream",
     "text": [
      "[13, 'G_65084863834752', 940.116455078125, 20.55309]\n"
     ]
    }
   ],
   "source": [
    "print(science_stars_blue[0])"
   ]
  },
  {
   "cell_type": "code",
   "execution_count": 28,
   "metadata": {},
   "outputs": [
    {
     "data": {
      "text/plain": [
       "<matplotlib.collections.PathCollection at 0x24b08333198>"
      ]
     },
     "execution_count": 28,
     "metadata": {},
     "output_type": "execute_result"
    },
    {
     "data": {
      "text/plain": [
       "<Figure size 432x288 with 0 Axes>"
      ]
     },
     "metadata": {},
     "output_type": "display_data"
    },
    {
     "data": {
      "image/png": "[encoded data removed]",
      "text/plain": [
       "<Figure size 576x576 with 1 Axes>"
      ]
     },
     "metadata": {
      "needs_background": "light"
     },
     "output_type": "display_data"
    }
   ],
   "source": [
    "x_red = [item[3] for item in science_stars_red]\n",
    "y_red = [item[2] for item in science_stars_red]\n",
    "\n",
    "x_green = [item[3] for item in science_stars_green]\n",
    "y_green = [item[2] for item in science_stars_green]\n",
    "\n",
    "x_blue = [item[3] for item in science_stars_blue]\n",
    "y_blue = [item[2] for item in science_stars_blue]\n",
    "\n",
    "f = InitializePlot()\n",
    "plt.scatter(x_red, y_red, c = 'red', s = 1, edgecolors = 'red')\n",
    "plt.scatter(x_green, y_green, c = 'green', s = 1, edgecolors = 'green')\n",
    "plt.scatter(x_blue, y_blue, c = 'blue', s = 1, edgecolors = 'blue')\n"
   ]
  },
  {
   "cell_type": "code",
   "execution_count": null,
   "metadata": {},
   "outputs": [],
   "source": []
  }
 ],
 "metadata": {
  "kernelspec": {
   "display_name": "Python 3",
   "language": "python",
   "name": "python3"
  },
  "language_info": {
   "codemirror_mode": {
    "name": "ipython",
    "version": 3
   },
   "file_extension": ".py",
   "mimetype": "text/x-python",
   "name": "python",
   "nbconvert_exporter": "python",
   "pygments_lexer": "ipython3",
   "version": "3.7.6"
  }
 },
 "nbformat": 4,
 "nbformat_minor": 2
}
